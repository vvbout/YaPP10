{
 "cells": [
  {
   "cell_type": "markdown",
   "id": "eccae719",
   "metadata": {},
   "source": [
    "# Анализ пользовательского взаимодействия с карточками статей в Яндекс.Дзен\n",
    "\n",
    "* Подключение к удаленной базе данных\n",
    "* Выгрузка данных из таблицы\n",
    "* Передача данных для загрузки в Tableau\n",
    "* Первичный анализ данных"
   ]
  },
  {
   "cell_type": "markdown",
   "id": "ed0941f0",
   "metadata": {},
   "source": [
    "## Подключение к удаленной базе данных"
   ]
  },
  {
   "cell_type": "code",
   "execution_count": 1,
   "id": "aab67c74",
   "metadata": {},
   "outputs": [
    {
     "name": "stdout",
     "output_type": "stream",
     "text": [
      "Requirement already satisfied: psycopg2 in c:\\users\\vb\\anaconda3\\lib\\site-packages (2.9.3)\n"
     ]
    }
   ],
   "source": [
    "# импортируем библиотеки\n",
    "import pandas as pd\n",
    "from sqlalchemy import create_engine\n",
    "!pip install psycopg2\n",
    "import seaborn as sns\n",
    "import matplotlib.pyplot as plt\n",
    "\n",
    "# задаём параметры подключения к БД\n",
    "db_config = {'user': 'praktikum_student', # имя пользователя\n",
    "            'pwd': 'Sdf4$2;d-d30pp', # пароль\n",
    "            'host': 'rc1b-wcoijxj3yxfsf3fs.mdb.yandexcloud.net',\n",
    "            'port': 6432, # порт подключения\n",
    "            'db': 'data-analyst-zen-project-db'} # название базы данных\n",
    "\n",
    "# формируем строку соединения с БД\n",
    "connection_string = 'postgresql://{}:{}@{}:{}/{}'.format(db_config['user'],\n",
    "                                                db_config['pwd'],\n",
    "                                                db_config['host'],\n",
    "                                                db_config['port'],\n",
    "                                                db_config['db'])\n",
    "\n",
    "# подключаемся к БД\n",
    "engine = create_engine(connection_string)"
   ]
  },
  {
   "cell_type": "markdown",
   "id": "9c6a331a",
   "metadata": {},
   "source": [
    "## Выгрузка данных"
   ]
  },
  {
   "cell_type": "code",
   "execution_count": 2,
   "id": "963dddf6",
   "metadata": {},
   "outputs": [],
   "source": [
    "# формируем sql-запрос\n",
    "query = ''' SELECT *\n",
    "            FROM dash_visits\n",
    "            '''\n"
   ]
  },
  {
   "cell_type": "code",
   "execution_count": 3,
   "id": "b07487bf",
   "metadata": {},
   "outputs": [],
   "source": [
    "# выполняем запрос и сохраняем результат\n",
    "# выполнения в DataFrame\n",
    "dash_visits = pd.io.sql.read_sql(query, con = engine)"
   ]
  },
  {
   "cell_type": "markdown",
   "id": "47fc201b",
   "metadata": {},
   "source": [
    "## Передача данных для загрузки в Tableau"
   ]
  },
  {
   "cell_type": "code",
   "execution_count": 4,
   "id": "5668acac",
   "metadata": {},
   "outputs": [],
   "source": [
    "# сохраняем таблицу на локальной машине\n",
    "# для дальнейшей передачи данных в Tableau\n",
    "dash_visits.to_csv('dash_visits.csv', sep='\\t')"
   ]
  },
  {
   "cell_type": "markdown",
   "id": "acc6babc",
   "metadata": {},
   "source": [
    "## Первичный анализ данных"
   ]
  },
  {
   "cell_type": "code",
   "execution_count": 5,
   "id": "b8408115",
   "metadata": {},
   "outputs": [
    {
     "data": {
      "text/html": [
       "<div>\n",
       "<style scoped>\n",
       "    .dataframe tbody tr th:only-of-type {\n",
       "        vertical-align: middle;\n",
       "    }\n",
       "\n",
       "    .dataframe tbody tr th {\n",
       "        vertical-align: top;\n",
       "    }\n",
       "\n",
       "    .dataframe thead th {\n",
       "        text-align: right;\n",
       "    }\n",
       "</style>\n",
       "<table border=\"1\" class=\"dataframe\">\n",
       "  <thead>\n",
       "    <tr style=\"text-align: right;\">\n",
       "      <th></th>\n",
       "      <th>record_id</th>\n",
       "      <th>item_topic</th>\n",
       "      <th>source_topic</th>\n",
       "      <th>age_segment</th>\n",
       "      <th>dt</th>\n",
       "      <th>visits</th>\n",
       "    </tr>\n",
       "  </thead>\n",
       "  <tbody>\n",
       "    <tr>\n",
       "      <th>0</th>\n",
       "      <td>1040597</td>\n",
       "      <td>Деньги</td>\n",
       "      <td>Авто</td>\n",
       "      <td>18-25</td>\n",
       "      <td>2019-09-24 18:32:00</td>\n",
       "      <td>3</td>\n",
       "    </tr>\n",
       "    <tr>\n",
       "      <th>1</th>\n",
       "      <td>1040598</td>\n",
       "      <td>Деньги</td>\n",
       "      <td>Авто</td>\n",
       "      <td>18-25</td>\n",
       "      <td>2019-09-24 18:35:00</td>\n",
       "      <td>1</td>\n",
       "    </tr>\n",
       "    <tr>\n",
       "      <th>2</th>\n",
       "      <td>1040599</td>\n",
       "      <td>Деньги</td>\n",
       "      <td>Авто</td>\n",
       "      <td>18-25</td>\n",
       "      <td>2019-09-24 18:54:00</td>\n",
       "      <td>4</td>\n",
       "    </tr>\n",
       "    <tr>\n",
       "      <th>3</th>\n",
       "      <td>1040600</td>\n",
       "      <td>Деньги</td>\n",
       "      <td>Авто</td>\n",
       "      <td>18-25</td>\n",
       "      <td>2019-09-24 18:55:00</td>\n",
       "      <td>17</td>\n",
       "    </tr>\n",
       "    <tr>\n",
       "      <th>4</th>\n",
       "      <td>1040601</td>\n",
       "      <td>Деньги</td>\n",
       "      <td>Авто</td>\n",
       "      <td>18-25</td>\n",
       "      <td>2019-09-24 18:56:00</td>\n",
       "      <td>27</td>\n",
       "    </tr>\n",
       "  </tbody>\n",
       "</table>\n",
       "</div>"
      ],
      "text/plain": [
       "   record_id item_topic source_topic age_segment                  dt  visits\n",
       "0    1040597     Деньги         Авто       18-25 2019-09-24 18:32:00       3\n",
       "1    1040598     Деньги         Авто       18-25 2019-09-24 18:35:00       1\n",
       "2    1040599     Деньги         Авто       18-25 2019-09-24 18:54:00       4\n",
       "3    1040600     Деньги         Авто       18-25 2019-09-24 18:55:00      17\n",
       "4    1040601     Деньги         Авто       18-25 2019-09-24 18:56:00      27"
      ]
     },
     "metadata": {},
     "output_type": "display_data"
    }
   ],
   "source": [
    "# выводим первые 5 строк таблицы\n",
    "display(dash_visits.head(5))"
   ]
  },
  {
   "cell_type": "code",
   "execution_count": 6,
   "id": "4e4a4862",
   "metadata": {},
   "outputs": [
    {
     "name": "stdout",
     "output_type": "stream",
     "text": [
      "<class 'pandas.core.frame.DataFrame'>\n",
      "RangeIndex: 30745 entries, 0 to 30744\n",
      "Data columns (total 6 columns):\n",
      " #   Column        Non-Null Count  Dtype         \n",
      "---  ------        --------------  -----         \n",
      " 0   record_id     30745 non-null  int64         \n",
      " 1   item_topic    30745 non-null  object        \n",
      " 2   source_topic  30745 non-null  object        \n",
      " 3   age_segment   30745 non-null  object        \n",
      " 4   dt            30745 non-null  datetime64[ns]\n",
      " 5   visits        30745 non-null  int64         \n",
      "dtypes: datetime64[ns](1), int64(2), object(3)\n",
      "memory usage: 1.4+ MB\n"
     ]
    },
    {
     "data": {
      "text/plain": [
       "None"
      ]
     },
     "metadata": {},
     "output_type": "display_data"
    }
   ],
   "source": [
    "# выводим информацию о таблице\n",
    "display(dash_visits.info())"
   ]
  },
  {
   "cell_type": "code",
   "execution_count": 7,
   "id": "2094b008",
   "metadata": {},
   "outputs": [
    {
     "data": {
      "text/plain": [
       "Timestamp('2019-09-24 18:28:00')"
      ]
     },
     "metadata": {},
     "output_type": "display_data"
    }
   ],
   "source": [
    "# проверяем минимальную дату события visit\n",
    "display(dash_visits['dt'].min())"
   ]
  },
  {
   "cell_type": "code",
   "execution_count": 8,
   "id": "7ab09d37",
   "metadata": {},
   "outputs": [
    {
     "data": {
      "text/plain": [
       "Timestamp('2019-09-24 19:00:00')"
      ]
     },
     "metadata": {},
     "output_type": "display_data"
    }
   ],
   "source": [
    "# проверяем максимальную дату события visit\n",
    "display(dash_visits['dt'].max())"
   ]
  },
  {
   "cell_type": "code",
   "execution_count": 9,
   "id": "41560f16",
   "metadata": {},
   "outputs": [
    {
     "data": {
      "text/plain": [
       "310207"
      ]
     },
     "metadata": {},
     "output_type": "display_data"
    }
   ],
   "source": [
    "# проверяем общее кол-во визитов\n",
    "display(dash_visits['visits'].sum())"
   ]
  },
  {
   "cell_type": "code",
   "execution_count": 10,
   "id": "0712524e",
   "metadata": {},
   "outputs": [
    {
     "data": {
      "text/plain": [
       "count      25.000000\n",
       "mean     1229.800000\n",
       "std       193.308907\n",
       "min       804.000000\n",
       "25%      1119.000000\n",
       "50%      1229.000000\n",
       "75%      1385.000000\n",
       "max      1536.000000\n",
       "Name: item_topic, dtype: float64"
      ]
     },
     "metadata": {},
     "output_type": "display_data"
    }
   ],
   "source": [
    "# проверяем кол-во уникальных значений item_topic\n",
    "# выводим стат информацию\n",
    "display(dash_visits['item_topic'].value_counts().describe())"
   ]
  },
  {
   "cell_type": "code",
   "execution_count": 20,
   "id": "84e36548",
   "metadata": {},
   "outputs": [
    {
     "data": {
      "text/html": [
       "<div>\n",
       "<style scoped>\n",
       "    .dataframe tbody tr th:only-of-type {\n",
       "        vertical-align: middle;\n",
       "    }\n",
       "\n",
       "    .dataframe tbody tr th {\n",
       "        vertical-align: top;\n",
       "    }\n",
       "\n",
       "    .dataframe thead th {\n",
       "        text-align: right;\n",
       "    }\n",
       "</style>\n",
       "<table border=\"1\" class=\"dataframe\">\n",
       "  <thead>\n",
       "    <tr style=\"text-align: right;\">\n",
       "      <th></th>\n",
       "      <th>тема карточки</th>\n",
       "      <th>кол-во взаимодействий</th>\n",
       "    </tr>\n",
       "  </thead>\n",
       "  <tbody>\n",
       "    <tr>\n",
       "      <th>0</th>\n",
       "      <td>Наука</td>\n",
       "      <td>21736</td>\n",
       "    </tr>\n",
       "    <tr>\n",
       "      <th>1</th>\n",
       "      <td>Отношения</td>\n",
       "      <td>20666</td>\n",
       "    </tr>\n",
       "    <tr>\n",
       "      <th>2</th>\n",
       "      <td>Интересные факты</td>\n",
       "      <td>19942</td>\n",
       "    </tr>\n",
       "    <tr>\n",
       "      <th>3</th>\n",
       "      <td>Общество</td>\n",
       "      <td>19640</td>\n",
       "    </tr>\n",
       "    <tr>\n",
       "      <th>4</th>\n",
       "      <td>Подборки</td>\n",
       "      <td>17772</td>\n",
       "    </tr>\n",
       "  </tbody>\n",
       "</table>\n",
       "</div>"
      ],
      "text/plain": [
       "      тема карточки  кол-во взаимодействий\n",
       "0             Наука                  21736\n",
       "1         Отношения                  20666\n",
       "2  Интересные факты                  19942\n",
       "3          Общество                  19640\n",
       "4          Подборки                  17772"
      ]
     },
     "metadata": {},
     "output_type": "display_data"
    }
   ],
   "source": [
    "# выводим кол-во визитов по каждой теме карточки (item_topic)\n",
    "display(dash_visits.groupby('item_topic').agg({'visits':'sum'}).sort_values(by='visits', ascending=False)\\\n",
    "        .reset_index()\\\n",
    "        .rename(columns=({'item_topic':'тема карточки', 'visits':'кол-во взаимодействий'})).head(5))"
   ]
  },
  {
   "cell_type": "code",
   "execution_count": 11,
   "id": "a9721a5f",
   "metadata": {},
   "outputs": [
    {
     "data": {
      "text/plain": [
       "count      26.000000\n",
       "mean     1182.500000\n",
       "std       333.810156\n",
       "min       667.000000\n",
       "25%       976.000000\n",
       "50%      1066.000000\n",
       "75%      1453.500000\n",
       "max      1822.000000\n",
       "Name: source_topic, dtype: float64"
      ]
     },
     "metadata": {},
     "output_type": "display_data"
    }
   ],
   "source": [
    "# проверяем кол-во уникальных значений source_topic\n",
    "# выводим стат информацию\n",
    "display(dash_visits['source_topic'].value_counts().describe())"
   ]
  },
  {
   "cell_type": "code",
   "execution_count": 23,
   "id": "1f28a9de",
   "metadata": {},
   "outputs": [
    {
     "data": {
      "text/html": [
       "<div>\n",
       "<style scoped>\n",
       "    .dataframe tbody tr th:only-of-type {\n",
       "        vertical-align: middle;\n",
       "    }\n",
       "\n",
       "    .dataframe tbody tr th {\n",
       "        vertical-align: top;\n",
       "    }\n",
       "\n",
       "    .dataframe thead th {\n",
       "        text-align: right;\n",
       "    }\n",
       "</style>\n",
       "<table border=\"1\" class=\"dataframe\">\n",
       "  <thead>\n",
       "    <tr style=\"text-align: right;\">\n",
       "      <th></th>\n",
       "      <th>тема источника</th>\n",
       "      <th>кол-во взаимодействий</th>\n",
       "    </tr>\n",
       "  </thead>\n",
       "  <tbody>\n",
       "    <tr>\n",
       "      <th>0</th>\n",
       "      <td>Семейные отношения</td>\n",
       "      <td>33309</td>\n",
       "    </tr>\n",
       "    <tr>\n",
       "      <th>1</th>\n",
       "      <td>Россия</td>\n",
       "      <td>29831</td>\n",
       "    </tr>\n",
       "    <tr>\n",
       "      <th>2</th>\n",
       "      <td>Полезные советы</td>\n",
       "      <td>27412</td>\n",
       "    </tr>\n",
       "    <tr>\n",
       "      <th>3</th>\n",
       "      <td>Путешествия</td>\n",
       "      <td>24124</td>\n",
       "    </tr>\n",
       "    <tr>\n",
       "      <th>4</th>\n",
       "      <td>Знаменитости</td>\n",
       "      <td>23945</td>\n",
       "    </tr>\n",
       "  </tbody>\n",
       "</table>\n",
       "</div>"
      ],
      "text/plain": [
       "       тема источника  кол-во взаимодействий\n",
       "0  Семейные отношения                  33309\n",
       "1              Россия                  29831\n",
       "2     Полезные советы                  27412\n",
       "3         Путешествия                  24124\n",
       "4        Знаменитости                  23945"
      ]
     },
     "metadata": {},
     "output_type": "display_data"
    }
   ],
   "source": [
    "# выводим кол-во визитов по каждой теме источника (source_topic)\n",
    "display(dash_visits.groupby('source_topic').agg({'visits':'sum'}).sort_values(by='visits', ascending=False)\\\n",
    "        .reset_index()\\\n",
    "        .rename(columns=({'source_topic':'тема источника', 'visits':'кол-во взаимодействий'})).head(5))"
   ]
  },
  {
   "cell_type": "code",
   "execution_count": 12,
   "id": "a6441d64",
   "metadata": {},
   "outputs": [
    {
     "data": {
      "text/plain": [
       "count       6.000000\n",
       "mean     5124.166667\n",
       "std      1376.074913\n",
       "min      3254.000000\n",
       "25%      4203.500000\n",
       "50%      5328.500000\n",
       "75%      5794.250000\n",
       "max      7056.000000\n",
       "Name: age_segment, dtype: float64"
      ]
     },
     "metadata": {},
     "output_type": "display_data"
    }
   ],
   "source": [
    "# проверяем кол-во уникальных значений age_segment\n",
    "# выводим стат информацию\n",
    "display(dash_visits['age_segment'].value_counts().describe())"
   ]
  },
  {
   "cell_type": "code",
   "execution_count": 13,
   "id": "cb0e6ae7",
   "metadata": {},
   "outputs": [
    {
     "data": {
      "image/png": "[encoded data removed]",
      "text/plain": [
       "<Figure size 1440x504 with 2 Axes>"
      ]
     },
     "metadata": {
      "needs_background": "light"
     },
     "output_type": "display_data"
    }
   ],
   "source": [
    "# проверяем распределение кол-ва визитов по темам карточек и источников\n",
    "plt.figure(figsize=(20, 7))\n",
    "\n",
    "ax2 = plt.subplot(1, 2, 2)\n",
    "dash_visits.groupby('item_topic').agg({'visits':'sum'}).sort_values(by='visits', ascending=False)\\\n",
    ".plot(ax=ax2, kind='bar', grid=True)\n",
    "plt.title('Распределение визитов по темам карточек')\n",
    "plt.xlabel('Темы карточек')\n",
    "plt.ylabel('Кол-во визитов')\n",
    "plt.xticks(rotation=90)\n",
    "\n",
    "ax1 = plt.subplot(1, 2, 1)\n",
    "dash_visits.groupby('source_topic').agg({'visits':'sum'}).sort_values(by='visits', ascending=False)\\\n",
    ".plot(ax=ax1, kind='bar', grid=True, color = 'orange')\n",
    "plt.title('Распределение визитов по темам источников')\n",
    "plt.xlabel('Темы источников')\n",
    "plt.ylabel('Кол-во визитов')\n",
    "plt.xticks(rotation=90)\n",
    "\n",
    "plt.tight_layout()\n",
    "plt.show()"
   ]
  },
  {
   "cell_type": "code",
   "execution_count": 14,
   "id": "48feb3d1",
   "metadata": {},
   "outputs": [
    {
     "data": {
      "text/plain": [
       "<Figure size 1080x504 with 0 Axes>"
      ]
     },
     "metadata": {},
     "output_type": "display_data"
    },
    {
     "data": {
      "image/png": "[encoded data removed]",
      "text/plain": [
       "<Figure size 432x288 with 1 Axes>"
      ]
     },
     "metadata": {
      "needs_background": "light"
     },
     "output_type": "display_data"
    }
   ],
   "source": [
    "# проверяем распределение кол-ва визитов по возрастным сегментам\n",
    "plt.figure(figsize=(15, 7))\n",
    "\n",
    "dash_visits.groupby('age_segment').agg({'visits':'sum'}).sort_values(by='visits', ascending=False).plot(kind='bar', grid=True)\n",
    "plt.title('Распределение визитов по возрастным сегментам')\n",
    "plt.xlabel('Возрастной сегмент')\n",
    "plt.ylabel('Кол-во визитов')\n",
    "plt.xticks(rotation=45)\n",
    "\n",
    "plt.show()"
   ]
  },
  {
   "cell_type": "markdown",
   "id": "2e6cae8d",
   "metadata": {},
   "source": [
    "# Выводы\n",
    "\n",
    "* Таблица, содержащая данные для построения дашборда содержит 30 745 записей и 6 колонок; не содержит пропусков.\n",
    "* Данные собраны за период 2019-09-24 18:28:00 - 2019-09-24 19:00:00 (32 минуты)\n",
    "* В изучаемый период было совершено 310 207 визитов пользователей.\n",
    "* Темы карточек (item_topic) представлены 25 уникальными темами. Количество записей по темам находится в диапазоне от 804 до 1536.\n",
    "* Темы источников (source_topic) представлены 26 уникальными источниками. Количество записей по темам находится в диапазоне от 667 до 1822.\n",
    "* Возрастные сегменты (age_segment) представлены 6 уникальными сегментами. Количество записей по сегментам находится в диапазоне от 3254 до 7056.\n",
    "* Наиболее популярными темами среди источников являются:\n",
    ">\n",
    "> Семейные отношения - 33 309 визитов\n",
    ">\n",
    "> Россия - 29 831 визит\n",
    ">\n",
    "> Полезные советы - 27 412 визитов\n",
    ">\n",
    "> Путешествия - 24 124 визита\n",
    ">\n",
    "> Знаменитости - 23 945 визитов\n",
    ">\n",
    "* Наиболее популярными темами среди карточек являются:\n",
    ">\n",
    "> Наука - 21 734 визита\n",
    ">\n",
    "> Отношения - 20 666 визитов\n",
    ">\n",
    "> Интересные факты - 19 942 визита\n",
    ">\n",
    "> Общество - 19 640 визитов\n",
    ">\n",
    "> Подборки - 17 772 визита\n",
    ">\n",
    "* Самым активным оказался самый молодой возрастной сегмент \"18 - 25\" лет, который за учетный период совершил более 120 000 визитов, а самым пассивным - самый взрослый сегмент \"45+\", совершивший в районе 10 000 визитов."
   ]
  }
 ],
 "metadata": {
  "kernelspec": {
   "display_name": "Python 3 (ipykernel)",
   "language": "python",
   "name": "python3"
  },
  "language_info": {
   "codemirror_mode": {
    "name": "ipython",
    "version": 3
   },
   "file_extension": ".py",
   "mimetype": "text/x-python",
   "name": "python",
   "nbconvert_exporter": "python",
   "pygments_lexer": "ipython3",
   "version": "3.9.7"
  }
 },
 "nbformat": 4,
 "nbformat_minor": 5
}
